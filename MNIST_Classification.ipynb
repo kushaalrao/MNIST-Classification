{
  "nbformat": 4,
  "nbformat_minor": 0,
  "metadata": {
    "colab": {
      "name": "MNIST Classification",
      "version": "0.3.2",
      "provenance": [],
      "collapsed_sections": []
    },
    "kernelspec": {
      "name": "python3",
      "display_name": "Python 3"
    }
  },
  "cells": [
    {
      "cell_type": "markdown",
      "metadata": {
        "id": "EjBWRKjnAzxr",
        "colab_type": "text"
      },
      "source": [
        ""
      ]
    },
    {
      "cell_type": "markdown",
      "metadata": {
        "id": "vW5iRAcn3qrU",
        "colab_type": "text"
      },
      "source": [
        "# **Importing Libraries and Installing Dependencies**\n",
        "\n",
        "\n",
        "\n",
        "\n"
      ]
    },
    {
      "cell_type": "code",
      "metadata": {
        "id": "VyV7lsmrAfZW",
        "colab_type": "code",
        "outputId": "5944c00f-eda8-4258-e121-59d7ed8277e5",
        "colab": {
          "base_uri": "https://localhost:8080/",
          "height": 469
        }
      },
      "source": [
        "!pip install -U tensorflow_datasets"
      ],
      "execution_count": 1,
      "outputs": [
        {
          "output_type": "stream",
          "text": [
            "Collecting tensorflow_datasets\n",
            "\u001b[?25l  Downloading https://files.pythonhosted.org/packages/6c/34/ff424223ed4331006aaa929efc8360b6459d427063dc59fc7b75d7e4bab3/tensorflow_datasets-1.2.0-py3-none-any.whl (2.3MB)\n",
            "\r\u001b[K     |▏                               | 10kB 13.5MB/s eta 0:00:01\r\u001b[K     |▎                               | 20kB 3.2MB/s eta 0:00:01\r\u001b[K     |▍                               | 30kB 4.6MB/s eta 0:00:01\r\u001b[K     |▋                               | 40kB 3.0MB/s eta 0:00:01\r\u001b[K     |▊                               | 51kB 3.7MB/s eta 0:00:01\r\u001b[K     |▉                               | 61kB 4.4MB/s eta 0:00:01\r\u001b[K     |█                               | 71kB 5.0MB/s eta 0:00:01\r\u001b[K     |█▏                              | 81kB 5.7MB/s eta 0:00:01\r\u001b[K     |█▎                              | 92kB 6.3MB/s eta 0:00:01\r\u001b[K     |█▌                              | 102kB 4.9MB/s eta 0:00:01\r\u001b[K     |█▋                              | 112kB 4.9MB/s eta 0:00:01\r\u001b[K     |█▊                              | 122kB 4.9MB/s eta 0:00:01\r\u001b[K     |█▉                              | 133kB 4.9MB/s eta 0:00:01\r\u001b[K     |██                              | 143kB 4.9MB/s eta 0:00:01\r\u001b[K     |██▏                             | 153kB 4.9MB/s eta 0:00:01\r\u001b[K     |██▎                             | 163kB 4.9MB/s eta 0:00:01\r\u001b[K     |██▌                             | 174kB 4.9MB/s eta 0:00:01\r\u001b[K     |██▋                             | 184kB 4.9MB/s eta 0:00:01\r\u001b[K     |██▊                             | 194kB 4.9MB/s eta 0:00:01\r\u001b[K     |███                             | 204kB 4.9MB/s eta 0:00:01\r\u001b[K     |███                             | 215kB 4.9MB/s eta 0:00:01\r\u001b[K     |███▏                            | 225kB 4.9MB/s eta 0:00:01\r\u001b[K     |███▎                            | 235kB 4.9MB/s eta 0:00:01\r\u001b[K     |███▌                            | 245kB 4.9MB/s eta 0:00:01\r\u001b[K     |███▋                            | 256kB 4.9MB/s eta 0:00:01\r\u001b[K     |███▊                            | 266kB 4.9MB/s eta 0:00:01\r\u001b[K     |████                            | 276kB 4.9MB/s eta 0:00:01\r\u001b[K     |████                            | 286kB 4.9MB/s eta 0:00:01\r\u001b[K     |████▏                           | 296kB 4.9MB/s eta 0:00:01\r\u001b[K     |████▍                           | 307kB 4.9MB/s eta 0:00:01\r\u001b[K     |████▌                           | 317kB 4.9MB/s eta 0:00:01\r\u001b[K     |████▋                           | 327kB 4.9MB/s eta 0:00:01\r\u001b[K     |████▉                           | 337kB 4.9MB/s eta 0:00:01\r\u001b[K     |█████                           | 348kB 4.9MB/s eta 0:00:01\r\u001b[K     |█████                           | 358kB 4.9MB/s eta 0:00:01\r\u001b[K     |█████▏                          | 368kB 4.9MB/s eta 0:00:01\r\u001b[K     |█████▍                          | 378kB 4.9MB/s eta 0:00:01\r\u001b[K     |█████▌                          | 389kB 4.9MB/s eta 0:00:01\r\u001b[K     |█████▋                          | 399kB 4.9MB/s eta 0:00:01\r\u001b[K     |█████▉                          | 409kB 4.9MB/s eta 0:00:01\r\u001b[K     |██████                          | 419kB 4.9MB/s eta 0:00:01\r\u001b[K     |██████                          | 430kB 4.9MB/s eta 0:00:01\r\u001b[K     |██████▎                         | 440kB 4.9MB/s eta 0:00:01\r\u001b[K     |██████▍                         | 450kB 4.9MB/s eta 0:00:01\r\u001b[K     |██████▌                         | 460kB 4.9MB/s eta 0:00:01\r\u001b[K     |██████▋                         | 471kB 4.9MB/s eta 0:00:01\r\u001b[K     |██████▉                         | 481kB 4.9MB/s eta 0:00:01\r\u001b[K     |███████                         | 491kB 4.9MB/s eta 0:00:01\r\u001b[K     |███████                         | 501kB 4.9MB/s eta 0:00:01\r\u001b[K     |███████▎                        | 512kB 4.9MB/s eta 0:00:01\r\u001b[K     |███████▍                        | 522kB 4.9MB/s eta 0:00:01\r\u001b[K     |███████▌                        | 532kB 4.9MB/s eta 0:00:01\r\u001b[K     |███████▊                        | 542kB 4.9MB/s eta 0:00:01\r\u001b[K     |███████▉                        | 552kB 4.9MB/s eta 0:00:01\r\u001b[K     |████████                        | 563kB 4.9MB/s eta 0:00:01\r\u001b[K     |████████▏                       | 573kB 4.9MB/s eta 0:00:01\r\u001b[K     |████████▎                       | 583kB 4.9MB/s eta 0:00:01\r\u001b[K     |████████▍                       | 593kB 4.9MB/s eta 0:00:01\r\u001b[K     |████████▌                       | 604kB 4.9MB/s eta 0:00:01\r\u001b[K     |████████▊                       | 614kB 4.9MB/s eta 0:00:01\r\u001b[K     |████████▉                       | 624kB 4.9MB/s eta 0:00:01\r\u001b[K     |█████████                       | 634kB 4.9MB/s eta 0:00:01\r\u001b[K     |█████████▏                      | 645kB 4.9MB/s eta 0:00:01\r\u001b[K     |█████████▎                      | 655kB 4.9MB/s eta 0:00:01\r\u001b[K     |█████████▍                      | 665kB 4.9MB/s eta 0:00:01\r\u001b[K     |█████████▋                      | 675kB 4.9MB/s eta 0:00:01\r\u001b[K     |█████████▊                      | 686kB 4.9MB/s eta 0:00:01\r\u001b[K     |█████████▉                      | 696kB 4.9MB/s eta 0:00:01\r\u001b[K     |██████████                      | 706kB 4.9MB/s eta 0:00:01\r\u001b[K     |██████████▏                     | 716kB 4.9MB/s eta 0:00:01\r\u001b[K     |██████████▎                     | 727kB 4.9MB/s eta 0:00:01\r\u001b[K     |██████████▍                     | 737kB 4.9MB/s eta 0:00:01\r\u001b[K     |██████████▋                     | 747kB 4.9MB/s eta 0:00:01\r\u001b[K     |██████████▊                     | 757kB 4.9MB/s eta 0:00:01\r\u001b[K     |██████████▉                     | 768kB 4.9MB/s eta 0:00:01\r\u001b[K     |███████████                     | 778kB 4.9MB/s eta 0:00:01\r\u001b[K     |███████████▏                    | 788kB 4.9MB/s eta 0:00:01\r\u001b[K     |███████████▎                    | 798kB 4.9MB/s eta 0:00:01\r\u001b[K     |███████████▌                    | 808kB 4.9MB/s eta 0:00:01\r\u001b[K     |███████████▋                    | 819kB 4.9MB/s eta 0:00:01\r\u001b[K     |███████████▊                    | 829kB 4.9MB/s eta 0:00:01\r\u001b[K     |███████████▉                    | 839kB 4.9MB/s eta 0:00:01\r\u001b[K     |████████████                    | 849kB 4.9MB/s eta 0:00:01\r\u001b[K     |████████████▏                   | 860kB 4.9MB/s eta 0:00:01\r\u001b[K     |████████████▎                   | 870kB 4.9MB/s eta 0:00:01\r\u001b[K     |████████████▌                   | 880kB 4.9MB/s eta 0:00:01\r\u001b[K     |████████████▋                   | 890kB 4.9MB/s eta 0:00:01\r\u001b[K     |████████████▊                   | 901kB 4.9MB/s eta 0:00:01\r\u001b[K     |█████████████                   | 911kB 4.9MB/s eta 0:00:01\r\u001b[K     |█████████████                   | 921kB 4.9MB/s eta 0:00:01\r\u001b[K     |█████████████▏                  | 931kB 4.9MB/s eta 0:00:01\r\u001b[K     |█████████████▎                  | 942kB 4.9MB/s eta 0:00:01\r\u001b[K     |█████████████▌                  | 952kB 4.9MB/s eta 0:00:01\r\u001b[K     |█████████████▋                  | 962kB 4.9MB/s eta 0:00:01\r\u001b[K     |█████████████▊                  | 972kB 4.9MB/s eta 0:00:01\r\u001b[K     |██████████████                  | 983kB 4.9MB/s eta 0:00:01\r\u001b[K     |██████████████                  | 993kB 4.9MB/s eta 0:00:01\r\u001b[K     |██████████████▏                 | 1.0MB 4.9MB/s eta 0:00:01\r\u001b[K     |██████████████▍                 | 1.0MB 4.9MB/s eta 0:00:01\r\u001b[K     |██████████████▌                 | 1.0MB 4.9MB/s eta 0:00:01\r\u001b[K     |██████████████▋                 | 1.0MB 4.9MB/s eta 0:00:01\r\u001b[K     |██████████████▉                 | 1.0MB 4.9MB/s eta 0:00:01\r\u001b[K     |███████████████                 | 1.1MB 4.9MB/s eta 0:00:01\r\u001b[K     |███████████████                 | 1.1MB 4.9MB/s eta 0:00:01\r\u001b[K     |███████████████▏                | 1.1MB 4.9MB/s eta 0:00:01\r\u001b[K     |███████████████▍                | 1.1MB 4.9MB/s eta 0:00:01\r\u001b[K     |███████████████▌                | 1.1MB 4.9MB/s eta 0:00:01\r\u001b[K     |███████████████▋                | 1.1MB 4.9MB/s eta 0:00:01\r\u001b[K     |███████████████▉                | 1.1MB 4.9MB/s eta 0:00:01\r\u001b[K     |████████████████                | 1.1MB 4.9MB/s eta 0:00:01\r\u001b[K     |████████████████                | 1.1MB 4.9MB/s eta 0:00:01\r\u001b[K     |████████████████▎               | 1.1MB 4.9MB/s eta 0:00:01\r\u001b[K     |████████████████▍               | 1.2MB 4.9MB/s eta 0:00:01\r\u001b[K     |████████████████▌               | 1.2MB 4.9MB/s eta 0:00:01\r\u001b[K     |████████████████▋               | 1.2MB 4.9MB/s eta 0:00:01\r\u001b[K     |████████████████▉               | 1.2MB 4.9MB/s eta 0:00:01\r\u001b[K     |█████████████████               | 1.2MB 4.9MB/s eta 0:00:01\r\u001b[K     |█████████████████               | 1.2MB 4.9MB/s eta 0:00:01\r\u001b[K     |█████████████████▎              | 1.2MB 4.9MB/s eta 0:00:01\r\u001b[K     |█████████████████▍              | 1.2MB 4.9MB/s eta 0:00:01\r\u001b[K     |█████████████████▌              | 1.2MB 4.9MB/s eta 0:00:01\r\u001b[K     |█████████████████▊              | 1.2MB 4.9MB/s eta 0:00:01\r\u001b[K     |█████████████████▉              | 1.3MB 4.9MB/s eta 0:00:01\r\u001b[K     |██████████████████              | 1.3MB 4.9MB/s eta 0:00:01\r\u001b[K     |██████████████████▏             | 1.3MB 4.9MB/s eta 0:00:01\r\u001b[K     |██████████████████▎             | 1.3MB 4.9MB/s eta 0:00:01\r\u001b[K     |██████████████████▍             | 1.3MB 4.9MB/s eta 0:00:01\r\u001b[K     |██████████████████▌             | 1.3MB 4.9MB/s eta 0:00:01\r\u001b[K     |██████████████████▊             | 1.3MB 4.9MB/s eta 0:00:01\r\u001b[K     |██████████████████▉             | 1.3MB 4.9MB/s eta 0:00:01\r\u001b[K     |███████████████████             | 1.3MB 4.9MB/s eta 0:00:01\r\u001b[K     |███████████████████▏            | 1.4MB 4.9MB/s eta 0:00:01\r\u001b[K     |███████████████████▎            | 1.4MB 4.9MB/s eta 0:00:01\r\u001b[K     |███████████████████▍            | 1.4MB 4.9MB/s eta 0:00:01\r\u001b[K     |███████████████████▋            | 1.4MB 4.9MB/s eta 0:00:01\r\u001b[K     |███████████████████▊            | 1.4MB 4.9MB/s eta 0:00:01\r\u001b[K     |███████████████████▉            | 1.4MB 4.9MB/s eta 0:00:01\r\u001b[K     |████████████████████            | 1.4MB 4.9MB/s eta 0:00:01\r\u001b[K     |████████████████████▏           | 1.4MB 4.9MB/s eta 0:00:01\r\u001b[K     |████████████████████▎           | 1.4MB 4.9MB/s eta 0:00:01\r\u001b[K     |████████████████████▍           | 1.4MB 4.9MB/s eta 0:00:01\r\u001b[K     |████████████████████▋           | 1.5MB 4.9MB/s eta 0:00:01\r\u001b[K     |████████████████████▊           | 1.5MB 4.9MB/s eta 0:00:01\r\u001b[K     |████████████████████▉           | 1.5MB 4.9MB/s eta 0:00:01\r\u001b[K     |█████████████████████           | 1.5MB 4.9MB/s eta 0:00:01\r\u001b[K     |█████████████████████▏          | 1.5MB 4.9MB/s eta 0:00:01\r\u001b[K     |█████████████████████▎          | 1.5MB 4.9MB/s eta 0:00:01\r\u001b[K     |█████████████████████▌          | 1.5MB 4.9MB/s eta 0:00:01\r\u001b[K     |█████████████████████▋          | 1.5MB 4.9MB/s eta 0:00:01\r\u001b[K     |█████████████████████▊          | 1.5MB 4.9MB/s eta 0:00:01\r\u001b[K     |█████████████████████▉          | 1.5MB 4.9MB/s eta 0:00:01\r\u001b[K     |██████████████████████          | 1.6MB 4.9MB/s eta 0:00:01\r\u001b[K     |██████████████████████▏         | 1.6MB 4.9MB/s eta 0:00:01\r\u001b[K     |██████████████████████▎         | 1.6MB 4.9MB/s eta 0:00:01\r\u001b[K     |██████████████████████▌         | 1.6MB 4.9MB/s eta 0:00:01\r\u001b[K     |██████████████████████▋         | 1.6MB 4.9MB/s eta 0:00:01\r\u001b[K     |██████████████████████▊         | 1.6MB 4.9MB/s eta 0:00:01\r\u001b[K     |███████████████████████         | 1.6MB 4.9MB/s eta 0:00:01\r\u001b[K     |███████████████████████         | 1.6MB 4.9MB/s eta 0:00:01\r\u001b[K     |███████████████████████▏        | 1.6MB 4.9MB/s eta 0:00:01\r\u001b[K     |███████████████████████▎        | 1.6MB 4.9MB/s eta 0:00:01\r\u001b[K     |███████████████████████▌        | 1.7MB 4.9MB/s eta 0:00:01\r\u001b[K     |███████████████████████▋        | 1.7MB 4.9MB/s eta 0:00:01\r\u001b[K     |███████████████████████▊        | 1.7MB 4.9MB/s eta 0:00:01\r\u001b[K     |████████████████████████        | 1.7MB 4.9MB/s eta 0:00:01\r\u001b[K     |████████████████████████        | 1.7MB 4.9MB/s eta 0:00:01\r\u001b[K     |████████████████████████▏       | 1.7MB 4.9MB/s eta 0:00:01\r\u001b[K     |████████████████████████▍       | 1.7MB 4.9MB/s eta 0:00:01\r\u001b[K     |████████████████████████▌       | 1.7MB 4.9MB/s eta 0:00:01\r\u001b[K     |████████████████████████▋       | 1.7MB 4.9MB/s eta 0:00:01\r\u001b[K     |████████████████████████▉       | 1.8MB 4.9MB/s eta 0:00:01\r\u001b[K     |█████████████████████████       | 1.8MB 4.9MB/s eta 0:00:01\r\u001b[K     |█████████████████████████       | 1.8MB 4.9MB/s eta 0:00:01\r\u001b[K     |█████████████████████████▏      | 1.8MB 4.9MB/s eta 0:00:01\r\u001b[K     |█████████████████████████▍      | 1.8MB 4.9MB/s eta 0:00:01\r\u001b[K     |█████████████████████████▌      | 1.8MB 4.9MB/s eta 0:00:01\r\u001b[K     |█████████████████████████▋      | 1.8MB 4.9MB/s eta 0:00:01\r\u001b[K     |█████████████████████████▉      | 1.8MB 4.9MB/s eta 0:00:01\r\u001b[K     |██████████████████████████      | 1.8MB 4.9MB/s eta 0:00:01\r\u001b[K     |██████████████████████████      | 1.8MB 4.9MB/s eta 0:00:01\r\u001b[K     |██████████████████████████▎     | 1.9MB 4.9MB/s eta 0:00:01\r\u001b[K     |██████████████████████████▍     | 1.9MB 4.9MB/s eta 0:00:01\r\u001b[K     |██████████████████████████▌     | 1.9MB 4.9MB/s eta 0:00:01\r\u001b[K     |██████████████████████████▋     | 1.9MB 4.9MB/s eta 0:00:01\r\u001b[K     |██████████████████████████▉     | 1.9MB 4.9MB/s eta 0:00:01\r\u001b[K     |███████████████████████████     | 1.9MB 4.9MB/s eta 0:00:01\r\u001b[K     |███████████████████████████     | 1.9MB 4.9MB/s eta 0:00:01\r\u001b[K     |███████████████████████████▎    | 1.9MB 4.9MB/s eta 0:00:01\r\u001b[K     |███████████████████████████▍    | 1.9MB 4.9MB/s eta 0:00:01\r\u001b[K     |███████████████████████████▌    | 1.9MB 4.9MB/s eta 0:00:01\r\u001b[K     |███████████████████████████▊    | 2.0MB 4.9MB/s eta 0:00:01\r\u001b[K     |███████████████████████████▉    | 2.0MB 4.9MB/s eta 0:00:01\r\u001b[K     |████████████████████████████    | 2.0MB 4.9MB/s eta 0:00:01\r\u001b[K     |████████████████████████████    | 2.0MB 4.9MB/s eta 0:00:01\r\u001b[K     |████████████████████████████▎   | 2.0MB 4.9MB/s eta 0:00:01\r\u001b[K     |████████████████████████████▍   | 2.0MB 4.9MB/s eta 0:00:01\r\u001b[K     |████████████████████████████▌   | 2.0MB 4.9MB/s eta 0:00:01\r\u001b[K     |████████████████████████████▊   | 2.0MB 4.9MB/s eta 0:00:01\r\u001b[K     |████████████████████████████▉   | 2.0MB 4.9MB/s eta 0:00:01\r\u001b[K     |█████████████████████████████   | 2.0MB 4.9MB/s eta 0:00:01\r\u001b[K     |█████████████████████████████▏  | 2.1MB 4.9MB/s eta 0:00:01\r\u001b[K     |█████████████████████████████▎  | 2.1MB 4.9MB/s eta 0:00:01\r\u001b[K     |█████████████████████████████▍  | 2.1MB 4.9MB/s eta 0:00:01\r\u001b[K     |█████████████████████████████▋  | 2.1MB 4.9MB/s eta 0:00:01\r\u001b[K     |█████████████████████████████▊  | 2.1MB 4.9MB/s eta 0:00:01\r\u001b[K     |█████████████████████████████▉  | 2.1MB 4.9MB/s eta 0:00:01\r\u001b[K     |██████████████████████████████  | 2.1MB 4.9MB/s eta 0:00:01\r\u001b[K     |██████████████████████████████▏ | 2.1MB 4.9MB/s eta 0:00:01\r\u001b[K     |██████████████████████████████▎ | 2.1MB 4.9MB/s eta 0:00:01\r\u001b[K     |██████████████████████████████▍ | 2.2MB 4.9MB/s eta 0:00:01\r\u001b[K     |██████████████████████████████▋ | 2.2MB 4.9MB/s eta 0:00:01\r\u001b[K     |██████████████████████████████▊ | 2.2MB 4.9MB/s eta 0:00:01\r\u001b[K     |██████████████████████████████▉ | 2.2MB 4.9MB/s eta 0:00:01\r\u001b[K     |███████████████████████████████ | 2.2MB 4.9MB/s eta 0:00:01\r\u001b[K     |███████████████████████████████▏| 2.2MB 4.9MB/s eta 0:00:01\r\u001b[K     |███████████████████████████████▎| 2.2MB 4.9MB/s eta 0:00:01\r\u001b[K     |███████████████████████████████▍| 2.2MB 4.9MB/s eta 0:00:01\r\u001b[K     |███████████████████████████████▋| 2.2MB 4.9MB/s eta 0:00:01\r\u001b[K     |███████████████████████████████▊| 2.2MB 4.9MB/s eta 0:00:01\r\u001b[K     |███████████████████████████████▉| 2.3MB 4.9MB/s eta 0:00:01\r\u001b[K     |████████████████████████████████| 2.3MB 4.9MB/s \n",
            "\u001b[?25hRequirement already satisfied, skipping upgrade: future in /usr/local/lib/python3.6/dist-packages (from tensorflow_datasets) (0.16.0)\n",
            "Requirement already satisfied, skipping upgrade: numpy in /usr/local/lib/python3.6/dist-packages (from tensorflow_datasets) (1.16.4)\n",
            "Requirement already satisfied, skipping upgrade: termcolor in /usr/local/lib/python3.6/dist-packages (from tensorflow_datasets) (1.1.0)\n",
            "Requirement already satisfied, skipping upgrade: absl-py in /usr/local/lib/python3.6/dist-packages (from tensorflow_datasets) (0.7.1)\n",
            "Requirement already satisfied, skipping upgrade: wrapt in /usr/local/lib/python3.6/dist-packages (from tensorflow_datasets) (1.11.2)\n",
            "Requirement already satisfied, skipping upgrade: dill in /usr/local/lib/python3.6/dist-packages (from tensorflow_datasets) (0.3.0)\n",
            "Requirement already satisfied, skipping upgrade: six in /usr/local/lib/python3.6/dist-packages (from tensorflow_datasets) (1.12.0)\n",
            "Requirement already satisfied, skipping upgrade: promise in /usr/local/lib/python3.6/dist-packages (from tensorflow_datasets) (2.2.1)\n",
            "Requirement already satisfied, skipping upgrade: protobuf>=3.6.1 in /usr/local/lib/python3.6/dist-packages (from tensorflow_datasets) (3.7.1)\n",
            "Requirement already satisfied, skipping upgrade: requests>=2.19.0 in /usr/local/lib/python3.6/dist-packages (from tensorflow_datasets) (2.21.0)\n",
            "Requirement already satisfied, skipping upgrade: psutil in /usr/local/lib/python3.6/dist-packages (from tensorflow_datasets) (5.4.8)\n",
            "Requirement already satisfied, skipping upgrade: tqdm in /usr/local/lib/python3.6/dist-packages (from tensorflow_datasets) (4.28.1)\n",
            "Requirement already satisfied, skipping upgrade: tensorflow-metadata in /usr/local/lib/python3.6/dist-packages (from tensorflow_datasets) (0.14.0)\n",
            "Requirement already satisfied, skipping upgrade: attrs in /usr/local/lib/python3.6/dist-packages (from tensorflow_datasets) (19.1.0)\n",
            "Requirement already satisfied, skipping upgrade: setuptools in /usr/local/lib/python3.6/dist-packages (from protobuf>=3.6.1->tensorflow_datasets) (41.2.0)\n",
            "Requirement already satisfied, skipping upgrade: idna<2.9,>=2.5 in /usr/local/lib/python3.6/dist-packages (from requests>=2.19.0->tensorflow_datasets) (2.8)\n",
            "Requirement already satisfied, skipping upgrade: urllib3<1.25,>=1.21.1 in /usr/local/lib/python3.6/dist-packages (from requests>=2.19.0->tensorflow_datasets) (1.24.3)\n",
            "Requirement already satisfied, skipping upgrade: chardet<3.1.0,>=3.0.2 in /usr/local/lib/python3.6/dist-packages (from requests>=2.19.0->tensorflow_datasets) (3.0.4)\n",
            "Requirement already satisfied, skipping upgrade: certifi>=2017.4.17 in /usr/local/lib/python3.6/dist-packages (from requests>=2.19.0->tensorflow_datasets) (2019.6.16)\n",
            "Requirement already satisfied, skipping upgrade: googleapis-common-protos in /usr/local/lib/python3.6/dist-packages (from tensorflow-metadata->tensorflow_datasets) (1.6.0)\n",
            "Installing collected packages: tensorflow-datasets\n",
            "Successfully installed tensorflow-datasets-1.2.0\n"
          ],
          "name": "stdout"
        }
      ]
    },
    {
      "cell_type": "code",
      "metadata": {
        "id": "_VdqwnbpArKB",
        "colab_type": "code",
        "outputId": "9c7032ed-1b04-4ed3-aee6-054a323320ef",
        "colab": {
          "base_uri": "https://localhost:8080/",
          "height": 35
        }
      },
      "source": [
        "from __future__ import absolute_import, division, print_function, unicode_literals\n",
        "\n",
        "\n",
        "# Import TensorFlow and TensorFlow Datasets\n",
        "import tensorflow as tf\n",
        "import tensorflow_datasets as tfds\n",
        "tfds.disable_progress_bar()\n",
        "\n",
        "# Helper libraries\n",
        "import math\n",
        "import numpy as np\n",
        "import matplotlib.pyplot as plt\n",
        "\n",
        "\n",
        "print(tf.__version__)\n",
        "\n",
        "# This will go away in the future.\n",
        "# If this gives an error, you might be running TensorFlow 2 or above\n",
        "# If so, then just comment out this line and run this cell again\n",
        "tf.enable_eager_execution()\n",
        "import cv2"
      ],
      "execution_count": 49,
      "outputs": [
        {
          "output_type": "stream",
          "text": [
            "1.14.0\n"
          ],
          "name": "stdout"
        }
      ]
    },
    {
      "cell_type": "code",
      "metadata": {
        "id": "Q5o1h7WhA35k",
        "colab_type": "code",
        "colab": {}
      },
      "source": [
        "import logging\n",
        "logger = tf.get_logger()\n",
        "logger.setLevel(logging.ERROR)"
      ],
      "execution_count": 0,
      "outputs": []
    },
    {
      "cell_type": "markdown",
      "metadata": {
        "id": "bLY1aG3J4FTm",
        "colab_type": "text"
      },
      "source": [
        "# **`Downloading the MNIST Data Set `**"
      ]
    },
    {
      "cell_type": "code",
      "metadata": {
        "id": "aCMqyD8IYPUX",
        "colab_type": "code",
        "outputId": "563a1a24-1978-4104-fa37-58655a4896ab",
        "colab": {
          "base_uri": "https://localhost:8080/",
          "height": 227
        }
      },
      "source": [
        "#dowloading dataset from tensorflow and splitting it into training and testing\n",
        "dataset, metadata = tfds.load('mnist', as_supervised=True, with_info=True)\n",
        "train_dataset, test_dataset = dataset['train'], dataset['test']"
      ],
      "execution_count": 4,
      "outputs": [
        {
          "output_type": "stream",
          "text": [
            "\u001b[1mDownloading and preparing dataset mnist (11.06 MiB) to /root/tensorflow_datasets/mnist/1.0.0...\u001b[0m\n"
          ],
          "name": "stdout"
        },
        {
          "output_type": "stream",
          "text": [
            "/usr/local/lib/python3.6/dist-packages/urllib3/connectionpool.py:847: InsecureRequestWarning: Unverified HTTPS request is being made. Adding certificate verification is strongly advised. See: https://urllib3.readthedocs.io/en/latest/advanced-usage.html#ssl-warnings\n",
            "  InsecureRequestWarning)\n",
            "/usr/local/lib/python3.6/dist-packages/urllib3/connectionpool.py:847: InsecureRequestWarning: Unverified HTTPS request is being made. Adding certificate verification is strongly advised. See: https://urllib3.readthedocs.io/en/latest/advanced-usage.html#ssl-warnings\n",
            "  InsecureRequestWarning)\n",
            "/usr/local/lib/python3.6/dist-packages/urllib3/connectionpool.py:847: InsecureRequestWarning: Unverified HTTPS request is being made. Adding certificate verification is strongly advised. See: https://urllib3.readthedocs.io/en/latest/advanced-usage.html#ssl-warnings\n",
            "  InsecureRequestWarning)\n",
            "/usr/local/lib/python3.6/dist-packages/urllib3/connectionpool.py:847: InsecureRequestWarning: Unverified HTTPS request is being made. Adding certificate verification is strongly advised. See: https://urllib3.readthedocs.io/en/latest/advanced-usage.html#ssl-warnings\n",
            "  InsecureRequestWarning)\n",
            "W0903 10:23:26.309785 140367009159040 dataset_builder.py:439] Warning: Setting shuffle_files=True because split=TRAIN and shuffle_files=None. This behavior will be deprecated on 2019-08-06, at which point shuffle_files=False will be the default for all splits.\n"
          ],
          "name": "stderr"
        },
        {
          "output_type": "stream",
          "text": [
            "\u001b[1mDataset mnist downloaded and prepared to /root/tensorflow_datasets/mnist/1.0.0. Subsequent calls will reuse this data.\u001b[0m\n"
          ],
          "name": "stdout"
        }
      ]
    },
    {
      "cell_type": "markdown",
      "metadata": {
        "id": "xsGO7C3f4cY5",
        "colab_type": "text"
      },
      "source": [
        "# Data Exploration and Preprocessing\n",
        "\n",
        "\n",
        "\n"
      ]
    },
    {
      "cell_type": "code",
      "metadata": {
        "id": "U_7Gy7HaZAw0",
        "colab_type": "code",
        "outputId": "e86d911c-5d24-4a8c-bfca-bcfbf04eb747",
        "colab": {
          "base_uri": "https://localhost:8080/",
          "height": 52
        }
      },
      "source": [
        "num_train_examples = metadata.splits['train'].num_examples\n",
        "num_test_examples = metadata.splits['test'].num_examples\n",
        "print(\"Number of training examples: {}\".format(num_train_examples))\n",
        "print(\"Number of test examples:     {}\".format(num_test_examples))"
      ],
      "execution_count": 5,
      "outputs": [
        {
          "output_type": "stream",
          "text": [
            "Number of training examples: 60000\n",
            "Number of test examples:     10000\n"
          ],
          "name": "stdout"
        }
      ]
    },
    {
      "cell_type": "code",
      "metadata": {
        "id": "-FPUTCRHZkY2",
        "colab_type": "code",
        "colab": {}
      },
      "source": [
        "#every pixel has a value between 0 and 255\n",
        "#in order for the model to work properly, the value needs to be between 0 and 1\n",
        "def normalize(images, labels):\n",
        "  images = tf.cast(images, tf.float32)\n",
        "  images /= 255\n",
        "  return images, labels\n",
        "\n",
        "train_dataset =  train_dataset.map(normalize)\n",
        "test_dataset  =  test_dataset.map(normalize)"
      ],
      "execution_count": 0,
      "outputs": []
    },
    {
      "cell_type": "code",
      "metadata": {
        "id": "rOccEiGVZ3UG",
        "colab_type": "code",
        "outputId": "13aff9f2-2ff1-48f9-9983-33c3381ee2c7",
        "colab": {
          "base_uri": "https://localhost:8080/",
          "height": 269
        }
      },
      "source": [
        "#plot the image in gray scale\n",
        "for image, label in test_dataset.take(1):\n",
        "  break\n",
        "image = image.numpy().reshape((28,28))\n",
        "\n",
        "plt.figure()\n",
        "plt.imshow(image, cmap=plt.cm.binary)\n",
        "plt.colorbar()\n",
        "plt.grid(False)\n",
        "plt.show()"
      ],
      "execution_count": 7,
      "outputs": [
        {
          "output_type": "display_data",
          "data": {
            "image/png": "[encoded data removed]",
            "text/plain": [
              "<Figure size 432x288 with 2 Axes>"
            ]
          },
          "metadata": {
            "tags": []
          }
        }
      ]
    },
    {
      "cell_type": "code",
      "metadata": {
        "id": "ofivvK3nZ_ak",
        "colab_type": "code",
        "outputId": "2ea9a571-15e8-4b72-e880-8fe9fa9c8f56",
        "colab": {
          "base_uri": "https://localhost:8080/",
          "height": 583
        }
      },
      "source": [
        "#plotting the first 25 images just to double check that the data looks correct\n",
        "plt.figure(figsize=(10,10))\n",
        "i = 0\n",
        "for (image, label) in test_dataset.take(25):\n",
        "    image = image.numpy().reshape((28,28))\n",
        "    plt.subplot(5,5,i+1)\n",
        "    plt.xticks([])\n",
        "    plt.yticks([])\n",
        "    plt.grid(False)\n",
        "    plt.imshow(image, cmap=plt.cm.binary)\n",
        "    i += 1\n",
        "plt.show()"
      ],
      "execution_count": 8,
      "outputs": [
        {
          "output_type": "display_data",
          "data": {
            "image/png": "[encoded data removed]",
            "text/plain": [
              "<Figure size 720x720 with 25 Axes>"
            ]
          },
          "metadata": {
            "tags": []
          }
        }
      ]
    },
    {
      "cell_type": "markdown",
      "metadata": {
        "id": "KwdVb2sQ4oAp",
        "colab_type": "text"
      },
      "source": [
        "# **Building the Initial Model:**\n"
      ]
    },
    {
      "cell_type": "markdown",
      "metadata": {
        "id": "eoyljd4R-4wW",
        "colab_type": "text"
      },
      "source": [
        "Initial Paramters\n",
        "\n",
        "1.   3 Layers (Dense)\n",
        "2.   Relu Activation Function\n",
        "\n",
        "1.   128 nodes in hidden layer\n",
        "\n",
        "\n",
        "\n"
      ]
    },
    {
      "cell_type": "code",
      "metadata": {
        "id": "z-Y4vCf8azov",
        "colab_type": "code",
        "colab": {}
      },
      "source": [
        "model = tf.keras.Sequential([\n",
        "    tf.keras.layers.Flatten(input_shape=(28, 28, 1)),\n",
        "    tf.keras.layers.Dense(128, activation=tf.nn.relu),\n",
        "    tf.keras.layers.Dense(10,  activation=tf.nn.softmax)\n",
        "])"
      ],
      "execution_count": 0,
      "outputs": []
    },
    {
      "cell_type": "code",
      "metadata": {
        "id": "t0AkUUVM4l07",
        "colab_type": "code",
        "colab": {}
      },
      "source": [
        "model.compile(optimizer='adam',\n",
        "              loss='sparse_categorical_crossentropy',\n",
        "              metrics=['accuracy'])"
      ],
      "execution_count": 0,
      "outputs": []
    },
    {
      "cell_type": "code",
      "metadata": {
        "id": "MDTa3ZWv4tUx",
        "colab_type": "code",
        "colab": {}
      },
      "source": [
        "BATCH_SIZE = 32\n",
        "train_dataset = train_dataset.repeat().shuffle(num_train_examples).batch(BATCH_SIZE)\n",
        "test_dataset = test_dataset.batch(BATCH_SIZE)"
      ],
      "execution_count": 0,
      "outputs": []
    },
    {
      "cell_type": "code",
      "metadata": {
        "id": "mLjSZGD54xPH",
        "colab_type": "code",
        "outputId": "6b40452c-a7dd-484e-dd95-314bccd907f5",
        "colab": {
          "base_uri": "https://localhost:8080/",
          "height": 207
        }
      },
      "source": [
        "model.fit(train_dataset, epochs=5, steps_per_epoch=math.ceil(num_train_examples/BATCH_SIZE))"
      ],
      "execution_count": 12,
      "outputs": [
        {
          "output_type": "stream",
          "text": [
            "Epoch 1/5\n",
            "1875/1875 [==============================] - 29s 16ms/step - loss: 0.2554 - acc: 0.9281\n",
            "Epoch 2/5\n",
            "1875/1875 [==============================] - 20s 11ms/step - loss: 0.1087 - acc: 0.9675\n",
            "Epoch 3/5\n",
            "1875/1875 [==============================] - 20s 11ms/step - loss: 0.0761 - acc: 0.9765\n",
            "Epoch 4/5\n",
            "1875/1875 [==============================] - 20s 11ms/step - loss: 0.0572 - acc: 0.9823\n",
            "Epoch 5/5\n",
            "1875/1875 [==============================] - 21s 11ms/step - loss: 0.0453 - acc: 0.9862\n"
          ],
          "name": "stdout"
        },
        {
          "output_type": "execute_result",
          "data": {
            "text/plain": [
              "<tensorflow.python.keras.callbacks.History at 0x7fa9731bdf60>"
            ]
          },
          "metadata": {
            "tags": []
          },
          "execution_count": 12
        }
      ]
    },
    {
      "cell_type": "markdown",
      "metadata": {
        "id": "yii1GdmX_IPy",
        "colab_type": "text"
      },
      "source": [
        "**Accuracy: 97.79%**"
      ]
    },
    {
      "cell_type": "code",
      "metadata": {
        "id": "KabZuIMl5AwO",
        "colab_type": "code",
        "outputId": "2fe75bee-d74f-4310-981e-b6bb129f8275",
        "colab": {
          "base_uri": "https://localhost:8080/",
          "height": 52
        }
      },
      "source": [
        "test_loss, test_accuracy = model.evaluate(test_dataset, steps=math.ceil(num_test_examples/32))\n",
        "print('Accuracy on test dataset:', test_accuracy)"
      ],
      "execution_count": 13,
      "outputs": [
        {
          "output_type": "stream",
          "text": [
            "313/313 [==============================] - 2s 7ms/step - loss: 0.0722 - acc: 0.9779\n",
            "Accuracy on test dataset: 0.9779\n"
          ],
          "name": "stdout"
        }
      ]
    },
    {
      "cell_type": "markdown",
      "metadata": {
        "id": "G80m1egg_RZ9",
        "colab_type": "text"
      },
      "source": [
        "# Model with Five Layers"
      ]
    },
    {
      "cell_type": "code",
      "metadata": {
        "id": "hz0LFnkOdvwg",
        "colab_type": "code",
        "colab": {
          "base_uri": "https://localhost:8080/",
          "height": 55
        },
        "outputId": "f11d93e4-0b03-445f-8016-53549b7476d8"
      },
      "source": [
        "#redownloading the dataset to reset dimensions\n",
        "dataset, metadata = tfds.load('mnist', as_supervised=True, with_info=True)\n",
        "train_dataset, test_dataset = dataset['train'], dataset['test']"
      ],
      "execution_count": 14,
      "outputs": [
        {
          "output_type": "stream",
          "text": [
            "W0903 10:25:21.409130 140367009159040 dataset_builder.py:439] Warning: Setting shuffle_files=True because split=TRAIN and shuffle_files=None. This behavior will be deprecated on 2019-08-06, at which point shuffle_files=False will be the default for all splits.\n"
          ],
          "name": "stderr"
        }
      ]
    },
    {
      "cell_type": "code",
      "metadata": {
        "id": "k3PgyoZBb0yy",
        "colab_type": "code",
        "colab": {}
      },
      "source": [
        "#calling the normalize function defined earlier\n",
        "train_dataset =  train_dataset.map(normalize)\n",
        "test_dataset  =  test_dataset.map(normalize)"
      ],
      "execution_count": 0,
      "outputs": []
    },
    {
      "cell_type": "code",
      "metadata": {
        "id": "AdfnGiWSczJB",
        "colab_type": "code",
        "colab": {
          "base_uri": "https://localhost:8080/",
          "height": 35
        },
        "outputId": "20b49f8b-3187-4537-fe1a-f1cd48493d8f"
      },
      "source": [
        "print(train_dataset)"
      ],
      "execution_count": 16,
      "outputs": [
        {
          "output_type": "stream",
          "text": [
            "<DatasetV1Adapter shapes: ((28, 28, 1), ()), types: (tf.float32, tf.int64)>\n"
          ],
          "name": "stdout"
        }
      ]
    },
    {
      "cell_type": "code",
      "metadata": {
        "id": "KAlOM3k_DK3N",
        "colab_type": "code",
        "colab": {}
      },
      "source": [
        "#five layers, each hidden layer has the same amount of nodes\n",
        "model = tf.keras.Sequential([\n",
        "    tf.keras.layers.Flatten(input_shape=(28, 28, 1)),\n",
        "    tf.keras.layers.Dense(128, activation=tf.nn.relu),\n",
        "    tf.keras.layers.Dense(128, activation=tf.nn.relu),\n",
        "    tf.keras.layers.Dense(128, activation=tf.nn.relu),\n",
        "    tf.keras.layers.Dense(10,  activation=tf.nn.softmax)\n",
        "])"
      ],
      "execution_count": 0,
      "outputs": []
    },
    {
      "cell_type": "code",
      "metadata": {
        "id": "m-HPQU4D8fRY",
        "colab_type": "code",
        "colab": {}
      },
      "source": [
        "model.compile(optimizer='adam',\n",
        "              loss='sparse_categorical_crossentropy',\n",
        "              metrics=['accuracy'])"
      ],
      "execution_count": 0,
      "outputs": []
    },
    {
      "cell_type": "code",
      "metadata": {
        "id": "5em4cCuO8jJC",
        "colab_type": "code",
        "colab": {}
      },
      "source": [
        "BATCH_SIZE = 32\n",
        "train_dataset = train_dataset.repeat().shuffle(num_train_examples).batch(BATCH_SIZE)\n",
        "test_dataset = test_dataset.batch(BATCH_SIZE)"
      ],
      "execution_count": 0,
      "outputs": []
    },
    {
      "cell_type": "code",
      "metadata": {
        "id": "gPIS-k2Vehl-",
        "colab_type": "code",
        "colab": {
          "base_uri": "https://localhost:8080/",
          "height": 207
        },
        "outputId": "414ff2ec-084c-4410-d46c-d016e63c1a9e"
      },
      "source": [
        "model.fit(train_dataset, epochs=5, steps_per_epoch=math.ceil(num_train_examples/BATCH_SIZE))"
      ],
      "execution_count": 20,
      "outputs": [
        {
          "output_type": "stream",
          "text": [
            "Epoch 1/5\n",
            "1875/1875 [==============================] - 30s 16ms/step - loss: 0.2198 - acc: 0.9336\n",
            "Epoch 2/5\n",
            "1875/1875 [==============================] - 21s 11ms/step - loss: 0.0944 - acc: 0.9701\n",
            "Epoch 3/5\n",
            "1875/1875 [==============================] - 22s 11ms/step - loss: 0.0760 - acc: 0.9762\n",
            "Epoch 4/5\n",
            "1875/1875 [==============================] - 21s 11ms/step - loss: 0.0536 - acc: 0.9826\n",
            "Epoch 5/5\n",
            "1875/1875 [==============================] - 21s 11ms/step - loss: 0.0465 - acc: 0.9851\n"
          ],
          "name": "stdout"
        },
        {
          "output_type": "execute_result",
          "data": {
            "text/plain": [
              "<tensorflow.python.keras.callbacks.History at 0x7fa97341de48>"
            ]
          },
          "metadata": {
            "tags": []
          },
          "execution_count": 20
        }
      ]
    },
    {
      "cell_type": "markdown",
      "metadata": {
        "id": "O4l5R7toAKc3",
        "colab_type": "text"
      },
      "source": [
        "**Accuracy: 97.73%**"
      ]
    },
    {
      "cell_type": "code",
      "metadata": {
        "id": "JUJq7QbJfKAB",
        "colab_type": "code",
        "colab": {
          "base_uri": "https://localhost:8080/",
          "height": 52
        },
        "outputId": "58addec6-6037-417d-e002-81460cda5462"
      },
      "source": [
        "test_loss, test_accuracy = model.evaluate(test_dataset, steps=math.ceil(num_test_examples/32))\n",
        "print('Accuracy on test dataset:', test_accuracy)"
      ],
      "execution_count": 21,
      "outputs": [
        {
          "output_type": "stream",
          "text": [
            "313/313 [==============================] - 2s 7ms/step - loss: 0.0814 - acc: 0.9773\n",
            "Accuracy on test dataset: 0.9773\n"
          ],
          "name": "stdout"
        }
      ]
    },
    {
      "cell_type": "markdown",
      "metadata": {
        "id": "9YCbtmdKAZAY",
        "colab_type": "text"
      },
      "source": [
        "# Sigmoid Activation Function"
      ]
    },
    {
      "cell_type": "code",
      "metadata": {
        "id": "5QR4lqa8kZNR",
        "colab_type": "code",
        "colab": {
          "base_uri": "https://localhost:8080/",
          "height": 55
        },
        "outputId": "af41be23-6f72-46e3-a941-f057047a0a11"
      },
      "source": [
        "dataset, metadata = tfds.load('mnist', as_supervised=True, with_info=True)\n",
        "train_dataset, test_dataset = dataset['train'], dataset['test']"
      ],
      "execution_count": 22,
      "outputs": [
        {
          "output_type": "stream",
          "text": [
            "W0903 10:27:20.280719 140367009159040 dataset_builder.py:439] Warning: Setting shuffle_files=True because split=TRAIN and shuffle_files=None. This behavior will be deprecated on 2019-08-06, at which point shuffle_files=False will be the default for all splits.\n"
          ],
          "name": "stderr"
        }
      ]
    },
    {
      "cell_type": "code",
      "metadata": {
        "id": "ugYsiZLIkk7d",
        "colab_type": "code",
        "colab": {}
      },
      "source": [
        "train_dataset =  train_dataset.map(normalize)\n",
        "test_dataset  =  test_dataset.map(normalize)"
      ],
      "execution_count": 0,
      "outputs": []
    },
    {
      "cell_type": "code",
      "metadata": {
        "id": "5UvEUKHpkq2F",
        "colab_type": "code",
        "colab": {}
      },
      "source": [
        "#same parameters as the inital model, the only difference is the activation function\n",
        "model = tf.keras.Sequential([\n",
        "    tf.keras.layers.Flatten(input_shape=(28, 28, 1)),\n",
        "    tf.keras.layers.Dense(128, activation=tf.nn.sigmoid),\n",
        "    tf.keras.layers.Dense(10,  activation=tf.nn.softmax)\n",
        "])"
      ],
      "execution_count": 0,
      "outputs": []
    },
    {
      "cell_type": "code",
      "metadata": {
        "id": "99Fn4k_-mFS5",
        "colab_type": "code",
        "colab": {}
      },
      "source": [
        "model.compile(optimizer='adam',\n",
        "              loss='sparse_categorical_crossentropy',\n",
        "              metrics=['accuracy'])"
      ],
      "execution_count": 0,
      "outputs": []
    },
    {
      "cell_type": "code",
      "metadata": {
        "id": "HVIJYg-7mJqX",
        "colab_type": "code",
        "colab": {}
      },
      "source": [
        "BATCH_SIZE = 32\n",
        "train_dataset = train_dataset.repeat().shuffle(num_train_examples).batch(BATCH_SIZE)\n",
        "test_dataset = test_dataset.batch(BATCH_SIZE)"
      ],
      "execution_count": 0,
      "outputs": []
    },
    {
      "cell_type": "code",
      "metadata": {
        "id": "aelzDGu_mBWe",
        "colab_type": "code",
        "colab": {
          "base_uri": "https://localhost:8080/",
          "height": 207
        },
        "outputId": "1924ff72-0740-453a-f286-31371b672222"
      },
      "source": [
        "model.fit(train_dataset, epochs=5, steps_per_epoch=math.ceil(num_train_examples/BATCH_SIZE))"
      ],
      "execution_count": 27,
      "outputs": [
        {
          "output_type": "stream",
          "text": [
            "Epoch 1/5\n",
            "1875/1875 [==============================] - 30s 16ms/step - loss: 0.3944 - acc: 0.8981\n",
            "Epoch 2/5\n",
            "1875/1875 [==============================] - 20s 10ms/step - loss: 0.1908 - acc: 0.9454\n",
            "Epoch 3/5\n",
            "1875/1875 [==============================] - 20s 11ms/step - loss: 0.1402 - acc: 0.9593\n",
            "Epoch 4/5\n",
            "1875/1875 [==============================] - 20s 11ms/step - loss: 0.1081 - acc: 0.9691\n",
            "Epoch 5/5\n",
            "1875/1875 [==============================] - 20s 11ms/step - loss: 0.0889 - acc: 0.9747\n"
          ],
          "name": "stdout"
        },
        {
          "output_type": "execute_result",
          "data": {
            "text/plain": [
              "<tensorflow.python.keras.callbacks.History at 0x7fa9731b5ac8>"
            ]
          },
          "metadata": {
            "tags": []
          },
          "execution_count": 27
        }
      ]
    },
    {
      "cell_type": "markdown",
      "metadata": {
        "id": "QBW_gZgOAj42",
        "colab_type": "text"
      },
      "source": [
        "**Accuracy: 97.16%**"
      ]
    },
    {
      "cell_type": "code",
      "metadata": {
        "id": "73G0MF7fmlhQ",
        "colab_type": "code",
        "colab": {
          "base_uri": "https://localhost:8080/",
          "height": 52
        },
        "outputId": "8f70a785-ace0-4d3f-f339-0e4ab9b79916"
      },
      "source": [
        "test_loss, test_accuracy = model.evaluate(test_dataset, steps=math.ceil(num_test_examples/32))\n",
        "print('Accuracy on test dataset:', test_accuracy)"
      ],
      "execution_count": 28,
      "outputs": [
        {
          "output_type": "stream",
          "text": [
            "313/313 [==============================] - 2s 7ms/step - loss: 0.0955 - acc: 0.9716\n",
            "Accuracy on test dataset: 0.9716\n"
          ],
          "name": "stdout"
        }
      ]
    },
    {
      "cell_type": "markdown",
      "metadata": {
        "id": "Vy77gDZDBFM9",
        "colab_type": "text"
      },
      "source": [
        "# Hidden Layer with 1,000 Nodes"
      ]
    },
    {
      "cell_type": "code",
      "metadata": {
        "id": "ejI-0LVImtTO",
        "colab_type": "code",
        "colab": {
          "base_uri": "https://localhost:8080/",
          "height": 55
        },
        "outputId": "b7f7072c-77f4-401b-b279-ca586b384c51"
      },
      "source": [
        "dataset, metadata = tfds.load('mnist', as_supervised=True, with_info=True)\n",
        "train_dataset, test_dataset = dataset['train'], dataset['test']"
      ],
      "execution_count": 29,
      "outputs": [
        {
          "output_type": "stream",
          "text": [
            "W0903 10:29:12.670256 140367009159040 dataset_builder.py:439] Warning: Setting shuffle_files=True because split=TRAIN and shuffle_files=None. This behavior will be deprecated on 2019-08-06, at which point shuffle_files=False will be the default for all splits.\n"
          ],
          "name": "stderr"
        }
      ]
    },
    {
      "cell_type": "code",
      "metadata": {
        "id": "3HogHRzjnPV2",
        "colab_type": "code",
        "colab": {}
      },
      "source": [
        "train_dataset =  train_dataset.map(normalize)\n",
        "test_dataset  =  test_dataset.map(normalize)"
      ],
      "execution_count": 0,
      "outputs": []
    },
    {
      "cell_type": "code",
      "metadata": {
        "id": "2MDH_45KnSAQ",
        "colab_type": "code",
        "colab": {}
      },
      "source": [
        "#hidden layer has 1,000 nodes\n",
        "model = tf.keras.Sequential([\n",
        "    tf.keras.layers.Flatten(input_shape=(28, 28, 1)),\n",
        "    tf.keras.layers.Dense(1000, activation=tf.nn.relu),\n",
        "    tf.keras.layers.Dense(10,  activation=tf.nn.softmax)\n",
        "])"
      ],
      "execution_count": 0,
      "outputs": []
    },
    {
      "cell_type": "code",
      "metadata": {
        "id": "zT2VvE4vnYo5",
        "colab_type": "code",
        "colab": {}
      },
      "source": [
        "model.compile(optimizer='adam',\n",
        "              loss='sparse_categorical_crossentropy',\n",
        "              metrics=['accuracy'])"
      ],
      "execution_count": 0,
      "outputs": []
    },
    {
      "cell_type": "code",
      "metadata": {
        "id": "utBvQmcPnbSs",
        "colab_type": "code",
        "colab": {}
      },
      "source": [
        "BATCH_SIZE = 32\n",
        "train_dataset = train_dataset.repeat().shuffle(num_train_examples).batch(BATCH_SIZE)\n",
        "test_dataset = test_dataset.batch(BATCH_SIZE)"
      ],
      "execution_count": 0,
      "outputs": []
    },
    {
      "cell_type": "code",
      "metadata": {
        "id": "etEp-aKkndps",
        "colab_type": "code",
        "colab": {
          "base_uri": "https://localhost:8080/",
          "height": 207
        },
        "outputId": "508a22e4-732b-4608-ff63-0497e493d3f1"
      },
      "source": [
        "model.fit(train_dataset, epochs=5, steps_per_epoch=math.ceil(num_train_examples/BATCH_SIZE))"
      ],
      "execution_count": 34,
      "outputs": [
        {
          "output_type": "stream",
          "text": [
            "Epoch 1/5\n",
            "1875/1875 [==============================] - 38s 20ms/step - loss: 0.1785 - acc: 0.9459\n",
            "Epoch 2/5\n",
            "1875/1875 [==============================] - 32s 17ms/step - loss: 0.0702 - acc: 0.9784\n",
            "Epoch 3/5\n",
            "1875/1875 [==============================] - 29s 16ms/step - loss: 0.0494 - acc: 0.9840\n",
            "Epoch 4/5\n",
            "1875/1875 [==============================] - 29s 16ms/step - loss: 0.0348 - acc: 0.9889\n",
            "Epoch 5/5\n",
            "1875/1875 [==============================] - 28s 15ms/step - loss: 0.0298 - acc: 0.9903\n"
          ],
          "name": "stdout"
        },
        {
          "output_type": "execute_result",
          "data": {
            "text/plain": [
              "<tensorflow.python.keras.callbacks.History at 0x7fa96b4aa940>"
            ]
          },
          "metadata": {
            "tags": []
          },
          "execution_count": 34
        }
      ]
    },
    {
      "cell_type": "markdown",
      "metadata": {
        "id": "jWmOclASBbSZ",
        "colab_type": "text"
      },
      "source": [
        "**Accuracy: 97.98%**"
      ]
    },
    {
      "cell_type": "code",
      "metadata": {
        "id": "JwaJ_zw4oGtC",
        "colab_type": "code",
        "colab": {
          "base_uri": "https://localhost:8080/",
          "height": 52
        },
        "outputId": "fd37216b-5c69-42a3-ab93-9430c8ab5a74"
      },
      "source": [
        "test_loss, test_accuracy = model.evaluate(test_dataset, steps=math.ceil(num_test_examples/32))\n",
        "print('Accuracy on test dataset:', test_accuracy)"
      ],
      "execution_count": 35,
      "outputs": [
        {
          "output_type": "stream",
          "text": [
            "313/313 [==============================] - 3s 9ms/step - loss: 0.0719 - acc: 0.9798\n",
            "Accuracy on test dataset: 0.9798\n"
          ],
          "name": "stdout"
        }
      ]
    }
  ]
}